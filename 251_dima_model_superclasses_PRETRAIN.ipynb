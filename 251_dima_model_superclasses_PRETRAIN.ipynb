{
 "cells": [
  {
   "cell_type": "code",
   "execution_count": 1,
   "metadata": {},
   "outputs": [
    {
     "name": "stderr",
     "output_type": "stream",
     "text": [
      "2024-12-19 21:51:35.820483: E external/local_xla/xla/stream_executor/cuda/cuda_fft.cc:477] Unable to register cuFFT factory: Attempting to register factory for plugin cuFFT when one has already been registered\n",
      "WARNING: All log messages before absl::InitializeLog() is called are written to STDERR\n",
      "E0000 00:00:1734641495.850221   61782 cuda_dnn.cc:8310] Unable to register cuDNN factory: Attempting to register factory for plugin cuDNN when one has already been registered\n",
      "E0000 00:00:1734641495.861196   61782 cuda_blas.cc:1418] Unable to register cuBLAS factory: Attempting to register factory for plugin cuBLAS when one has already been registered\n",
      "2024-12-19 21:51:35.895351: I tensorflow/core/platform/cpu_feature_guard.cc:210] This TensorFlow binary is optimized to use available CPU instructions in performance-critical operations.\n",
      "To enable the following instructions: AVX2 FMA, in other operations, rebuild TensorFlow with the appropriate compiler flags.\n"
     ]
    },
    {
     "name": "stdout",
     "output_type": "stream",
     "text": [
      "2.18.0\n",
      "[PhysicalDevice(name='/physical_device:CPU:0', device_type='CPU'), PhysicalDevice(name='/physical_device:GPU:0', device_type='GPU')]\n"
     ]
    }
   ],
   "source": [
    "############################################################################################\n",
    "# IMPORTS\n",
    "############################################################################################\n",
    "import os\n",
    "\n",
    "import numpy as np\n",
    "import pandas as pd\n",
    "import matplotlib.pyplot as plt\n",
    "\n",
    "#import tensorflow.keras.backend as K\n",
    "from sklearn.model_selection import train_test_split\n",
    "from sklearn.metrics import mean_squared_error\n",
    "from sklearn.preprocessing import StandardScaler, MinMaxScaler\n",
    "\n",
    "import warnings\n",
    "warnings.filterwarnings('ignore')\n",
    "\n",
    "import tensorflow as tf\n",
    "#import tensorflow.keras as keras\n",
    "\n",
    "from tensorflow.keras import layers\n",
    "from tensorflow.keras import regularizers\n",
    "\n",
    "\n",
    "from tensorflow.keras.models import load_model\n",
    "from tensorflow.keras.models import Sequential\n",
    "from tensorflow.keras.layers import Conv2D, Dense, MaxPooling2D, Activation, Flatten\n",
    "\n",
    "from tensorflow.keras.datasets import mnist\n",
    "from tensorflow.keras.utils import to_categorical\n",
    "\n",
    "\n",
    "\n",
    "from IPython import display\n",
    "from PIL import Image\n",
    "\n",
    "\n",
    "import pathlib\n",
    "import shutil\n",
    "import tempfile\n",
    "import concurrent\n",
    "\n",
    "\n",
    "import json\n",
    "import glob\n",
    "\n",
    "\n",
    "\n",
    "\n",
    "\n",
    "print(tf.__version__)\n",
    "print(tf.config.list_physical_devices())\n",
    "############################################################################################"
   ]
  },
  {
   "cell_type": "code",
   "execution_count": 2,
   "metadata": {},
   "outputs": [],
   "source": [
    "############################################################################################\n",
    "# 1. CONSTANTS - PATHS\n",
    "############################################################################################\n",
    "\n",
    "DATA_FS251 = './data/iFood_2019'\n",
    "CLASSES_FILE_NAME = '/formated_annot/classes_formated.csv'\n",
    "\n",
    "TRAIN_INFO = '/annot/train_info.csv'\n",
    "VAL_INFO = '/annot/val_info.csv'\n",
    "TEST_INFO = '/annot/test_info.csv'\n",
    "\n",
    "TRAIN_PICS_PATH = './data/iFood_2019/train_set/'\n",
    "TEST_PICS_PATH = './data/iFood_2019/test_set/'\n",
    "VAL_PICS_PATH = './data/iFood_2019/val_set/'\n",
    "\n",
    "SEED = 111\n",
    "\n",
    "#os.environ[\"CUDA_VISIBLE_DEVICES\"] = \"-1\"\n"
   ]
  },
  {
   "cell_type": "code",
   "execution_count": 3,
   "metadata": {},
   "outputs": [
    {
     "data": {
      "text/html": [
       "<div>\n",
       "<style scoped>\n",
       "    .dataframe tbody tr th:only-of-type {\n",
       "        vertical-align: middle;\n",
       "    }\n",
       "\n",
       "    .dataframe tbody tr th {\n",
       "        vertical-align: top;\n",
       "    }\n",
       "\n",
       "    .dataframe thead th {\n",
       "        text-align: right;\n",
       "    }\n",
       "</style>\n",
       "<table border=\"1\" class=\"dataframe\">\n",
       "  <thead>\n",
       "    <tr style=\"text-align: right;\">\n",
       "      <th></th>\n",
       "      <th>file_name</th>\n",
       "      <th>class_num</th>\n",
       "    </tr>\n",
       "  </thead>\n",
       "  <tbody>\n",
       "    <tr>\n",
       "      <th>0</th>\n",
       "      <td>train_101733.jpg</td>\n",
       "      <td>211</td>\n",
       "    </tr>\n",
       "    <tr>\n",
       "      <th>1</th>\n",
       "      <td>train_101734.jpg</td>\n",
       "      <td>211</td>\n",
       "    </tr>\n",
       "    <tr>\n",
       "      <th>2</th>\n",
       "      <td>train_101735.jpg</td>\n",
       "      <td>211</td>\n",
       "    </tr>\n",
       "  </tbody>\n",
       "</table>\n",
       "</div>"
      ],
      "text/plain": [
       "          file_name  class_num\n",
       "0  train_101733.jpg        211\n",
       "1  train_101734.jpg        211\n",
       "2  train_101735.jpg        211"
      ]
     },
     "execution_count": 3,
     "metadata": {},
     "output_type": "execute_result"
    }
   ],
   "source": [
    "############################################################################################\n",
    "# IMPORTING DATA\n",
    "############################################################################################\n",
    "df_classes = pd.read_csv(DATA_FS251 + CLASSES_FILE_NAME)\n",
    "df_train = pd.read_csv(DATA_FS251 + TRAIN_INFO, names=['file_name', 'class_num'])\n",
    "df_validate = pd.read_csv(DATA_FS251 + VAL_INFO, names=['file_name', 'class_num'])\n",
    "df_test = pd.read_csv(DATA_FS251 + TEST_INFO, names=['file_name'])\n",
    "\n",
    "df_train.head(3)"
   ]
  },
  {
   "cell_type": "code",
   "execution_count": 4,
   "metadata": {},
   "outputs": [],
   "source": [
    "############################################################################################\n",
    "# 2. CONSTANTS - MODEL\n",
    "############################################################################################\n",
    "training_history = dict()\n",
    "\n",
    "N_TRAIN = len(df_train.iloc[:, 0])\n",
    "EPOCHS = 20\n",
    "BATCH_SIZE = 1\n",
    "RESIZE_TO = (224, 224)\n",
    "STEPS_PER_EPOCH = N_TRAIN // BATCH_SIZE\n",
    "lr_schedule = tf.keras.optimizers.schedules.InverseTimeDecay(\n",
    "    0.01,\n",
    "    decay_steps=STEPS_PER_EPOCH*1000,\n",
    "    decay_rate=1,\n",
    "    staircase=False)"
   ]
  },
  {
   "cell_type": "code",
   "execution_count": 5,
   "metadata": {},
   "outputs": [
    {
     "name": "stdout",
     "output_type": "stream",
     "text": [
      "Found 118475 files belonging to 251 classes.\n"
     ]
    },
    {
     "name": "stderr",
     "output_type": "stream",
     "text": [
      "I0000 00:00:1734641515.627175   61782 gpu_device.cc:2022] Created device /job:localhost/replica:0/task:0/device:GPU:0 with 191 MB memory:  -> device: 0, name: NVIDIA GeForce GTX 1060 with Max-Q Design, pci bus id: 0000:01:00.0, compute capability: 6.1\n"
     ]
    },
    {
     "name": "stdout",
     "output_type": "stream",
     "text": [
      "Found 11994 files belonging to 251 classes.\n",
      "Found 28377 files.\n"
     ]
    }
   ],
   "source": [
    "############################################################################################\n",
    "# import image files\n",
    "\n",
    "train_pics = tf.keras.preprocessing.image_dataset_from_directory(\n",
    "    TRAIN_PICS_PATH,\n",
    "    labels='inferred',\n",
    "    label_mode='categorical',\n",
    "    class_names=None,\n",
    "    color_mode='rgb',\n",
    "    batch_size=BATCH_SIZE,\n",
    "    image_size=RESIZE_TO,\n",
    "    shuffle=False,\n",
    "    seed=SEED,\n",
    "    validation_split=None,\n",
    "    subset=None,\n",
    "    interpolation='bilinear',\n",
    "    follow_links=False,\n",
    "    crop_to_aspect_ratio=False,\n",
    "    pad_to_aspect_ratio=True,\n",
    "    data_format=None,\n",
    "    verbose=True\n",
    ")\n",
    "val_pics = tf.keras.preprocessing.image_dataset_from_directory(\n",
    "    VAL_PICS_PATH,\n",
    "    labels='inferred',\n",
    "    label_mode='categorical',\n",
    "    class_names=None,\n",
    "    color_mode='rgb',\n",
    "    batch_size=BATCH_SIZE,\n",
    "    image_size=RESIZE_TO,\n",
    "    shuffle=False,\n",
    "    seed=SEED,\n",
    "    validation_split=None,\n",
    "    subset=None,\n",
    "    interpolation='bilinear',\n",
    "    follow_links=False,\n",
    "    crop_to_aspect_ratio=False,\n",
    "    pad_to_aspect_ratio=True,\n",
    "    data_format=None,\n",
    "    verbose=True\n",
    ")\n",
    "test_pics = tf.keras.preprocessing.image_dataset_from_directory(\n",
    "    TEST_PICS_PATH,\n",
    "    labels=None,\n",
    "    label_mode=None,\n",
    "    class_names=None,\n",
    "    color_mode='rgb',\n",
    "    batch_size=BATCH_SIZE,\n",
    "    image_size=RESIZE_TO,\n",
    "    shuffle=False,\n",
    "    seed=SEED,\n",
    "    validation_split=None,\n",
    "    subset=None,\n",
    "    interpolation='bilinear',\n",
    "    follow_links=False,\n",
    "    crop_to_aspect_ratio=False,\n",
    "    pad_to_aspect_ratio=True,\n",
    "    data_format=None,\n",
    "    verbose=True\n",
    ")"
   ]
  },
  {
   "cell_type": "code",
   "execution_count": 10,
   "metadata": {},
   "outputs": [
    {
     "name": "stderr",
     "output_type": "stream",
     "text": [
      "2024-12-19 21:53:57.584749: I tensorflow/core/framework/local_rendezvous.cc:405] Local rendezvous is aborting with status: OUT_OF_RANGE: End of sequence\n"
     ]
    },
    {
     "data": {
      "text/plain": [
       "array([  0.,   0.,   0., ..., 250., 250., 250.])"
      ]
     },
     "execution_count": 10,
     "metadata": {},
     "output_type": "execute_result"
    }
   ],
   "source": [
    "#x_val = list(map(lambda x: x[0], val_pics))\n",
    "y_val = np.array([])\n",
    "for x, y in val_pics:\n",
    "    y_val = np.concatenate([y_val, np.argmax(y.numpy(), axis=-1)])\n",
    "\n",
    "y_val"
   ]
  },
  {
   "cell_type": "code",
   "execution_count": null,
   "metadata": {},
   "outputs": [
    {
     "name": "stderr",
     "output_type": "stream",
     "text": [
      "2024-12-19 21:54:38.325591: E external/local_xla/xla/stream_executor/cuda/cuda_driver.cc:1253] failed to alloc 4294967296 bytes on host: INTERNAL: CUDA error: : CUDA_ERROR_INVALID_VALUE: invalid argument\n",
      "W0000 00:00:1734641678.325631   64544 device_host_allocator.h:61] could not allocate pinned host memory of size: 4294967296\n",
      "2024-12-19 21:54:41.277658: E external/local_xla/xla/stream_executor/cuda/cuda_driver.cc:1253] failed to alloc 3865470464 bytes on host: INTERNAL: CUDA error: : CUDA_ERROR_INVALID_VALUE: invalid argument\n",
      "W0000 00:00:1734641681.277699   64544 device_host_allocator.h:61] could not allocate pinned host memory of size: 3865470464\n",
      "2024-12-19 21:54:44.739117: E external/local_xla/xla/stream_executor/cuda/cuda_driver.cc:1253] failed to alloc 3478923264 bytes on host: INTERNAL: CUDA error: : CUDA_ERROR_INVALID_VALUE: invalid argument\n",
      "W0000 00:00:1734641684.739193   64544 device_host_allocator.h:61] could not allocate pinned host memory of size: 3478923264\n",
      "2024-12-19 21:54:49.273786: E external/local_xla/xla/stream_executor/cuda/cuda_driver.cc:1253] failed to alloc 3131030784 bytes on host: INTERNAL: CUDA error: : CUDA_ERROR_INVALID_VALUE: invalid argument\n",
      "W0000 00:00:1734641689.273840   64544 device_host_allocator.h:61] could not allocate pinned host memory of size: 3131030784\n",
      "2024-12-19 21:54:54.088298: E external/local_xla/xla/stream_executor/cuda/cuda_driver.cc:1253] failed to alloc 2817927680 bytes on host: INTERNAL: CUDA error: : CUDA_ERROR_INVALID_VALUE: invalid argument\n",
      "W0000 00:00:1734641694.088371   64544 device_host_allocator.h:61] could not allocate pinned host memory of size: 2817927680\n",
      "2024-12-19 21:55:02.245017: E external/local_xla/xla/stream_executor/cuda/cuda_driver.cc:1253] failed to alloc 2536134912 bytes on host: INTERNAL: CUDA error: : CUDA_ERROR_INVALID_VALUE: invalid argument\n",
      "W0000 00:00:1734641702.245175   64544 device_host_allocator.h:61] could not allocate pinned host memory of size: 2536134912\n",
      "2024-12-19 21:55:07.829430: E external/local_xla/xla/stream_executor/cuda/cuda_driver.cc:1253] failed to alloc 2282521344 bytes on host: INTERNAL: CUDA error: : CUDA_ERROR_INVALID_VALUE: invalid argument\n",
      "W0000 00:00:1734641707.829479   64544 device_host_allocator.h:61] could not allocate pinned host memory of size: 2282521344\n"
     ]
    }
   ],
   "source": [
    "\n",
    "#plt.imshow(list(val_pics)[0][30])"
   ]
  },
  {
   "cell_type": "code",
   "execution_count": null,
   "metadata": {},
   "outputs": [],
   "source": [
    "STOP_HERE"
   ]
  },
  {
   "cell_type": "code",
   "execution_count": null,
   "metadata": {},
   "outputs": [],
   "source": [
    "############################################################################################\n",
    "# VGG16 model construction/deffinition\n",
    "############################################################################################\n",
    "tf.keras.backend.clear_session()\n",
    "model_supclass_vgg16 = tf.keras.models.Sequential([\n",
    "        tf.keras.layers.Resizing(\n",
    "                height = 224,\n",
    "                width = 224,\n",
    "                interpolation='bilinear',\n",
    "                crop_to_aspect_ratio=False,\n",
    "                pad_to_aspect_ratio=False,\n",
    "                fill_mode='constant',\n",
    "                fill_value=0.0,\n",
    "                data_format=None),\n",
    "        tf.keras.applications.vgg16.VGG16(weights='imagenet'),\n",
    "        tf.keras.layers.Dense(\n",
    "                units = 251,\n",
    "                activation = tf.keras.activations.softmax)\n",
    "])"
   ]
  },
  {
   "cell_type": "code",
   "execution_count": null,
   "metadata": {},
   "outputs": [],
   "source": [
    "############################################################################################\n",
    "# COMPILING\n",
    "############################################################################################\n",
    "\n",
    "lr_schedule = tf.keras.optimizers.schedules.InverseTimeDecay(\n",
    "    0.3,\n",
    "    decay_steps=STEPS_PER_EPOCH*1000,\n",
    "    decay_rate=1,\n",
    "    staircase=False)\n",
    "model_supclass_vgg16.compile(\n",
    "              optimizer = tf.keras.optimizers.Adam(learning_rate = lr_schedule),\n",
    "              loss = tf.keras.losses.categorical_crossentropy,\n",
    "              metrics = [tf.keras.metrics.categorical_accuracy] \n",
    ")\n",
    "model_supclass_vgg16.summary()"
   ]
  },
  {
   "cell_type": "code",
   "execution_count": null,
   "metadata": {},
   "outputs": [],
   "source": [
    "############################################################################################\n",
    "# FITTING\n",
    "############################################################################################\n",
    "with tf.device('/gpu:0'):\n",
    "    model_history = model_supclass_vgg16.fit(\n",
    "        train_pics,\n",
    "        epochs = EPOCHS, \n",
    "        batch_size = BATCH_SIZE, \n",
    "        validation_data = val_pics)\n",
    "\n",
    "model_supclass_vgg16.summary()"
   ]
  },
  {
   "cell_type": "code",
   "execution_count": null,
   "metadata": {},
   "outputs": [],
   "source": [
    "STOP_HERE"
   ]
  },
  {
   "cell_type": "code",
   "execution_count": null,
   "metadata": {},
   "outputs": [],
   "source": [
    "############################################################################################\n",
    "# EVALUATION\n",
    "model_history.history.keys()\n",
    "pd.DataFrame(model_history.history).plot()\n",
    "plt.legend(bbox_to_anchor = [1, 1.02])\n",
    "plt.plot(model_history.history['val_loss'])\n",
    "plt.title('Validation Loss')\n",
    "plt.xlabel('epochs')\n",
    "\n",
    "# Print out the score\n",
    "score = model.evaluate(X, y , batch_size=10, verbose=0)\n",
    "print(score, model.metrics_names)\n",
    "\n",
    "############################################################################################\n",
    "# PREDICTION\n",
    "\n",
    "\n",
    "\n",
    "\n",
    "\n",
    "\n",
    "\n",
    "\n",
    "y_hat=model.predict(new_X)\n",
    "############################################################################################\n",
    "# SAVING MODEL\n",
    "\n",
    "\n",
    "\n",
    "\n",
    "model.save(\"model_moons.h5\")\n",
    "moons_model = load_model(\"model_moons.h5\")\n",
    "\n"
   ]
  }
 ],
 "metadata": {
  "kernelspec": {
   "display_name": ".venv",
   "language": "python",
   "name": "python3"
  },
  "language_info": {
   "codemirror_mode": {
    "name": "ipython",
    "version": 3
   },
   "file_extension": ".py",
   "mimetype": "text/x-python",
   "name": "python",
   "nbconvert_exporter": "python",
   "pygments_lexer": "ipython3",
   "version": "3.11.3"
  }
 },
 "nbformat": 4,
 "nbformat_minor": 2
}
