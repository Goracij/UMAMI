{
 "cells": [
  {
   "cell_type": "code",
   "execution_count": 1,
   "metadata": {},
   "outputs": [
    {
     "name": "stderr",
     "output_type": "stream",
     "text": [
      "2025-01-16 08:23:31.635083: E external/local_xla/xla/stream_executor/cuda/cuda_fft.cc:477] Unable to register cuFFT factory: Attempting to register factory for plugin cuFFT when one has already been registered\n",
      "WARNING: All log messages before absl::InitializeLog() is called are written to STDERR\n",
      "E0000 00:00:1737012211.669819  156097 cuda_dnn.cc:8310] Unable to register cuDNN factory: Attempting to register factory for plugin cuDNN when one has already been registered\n",
      "E0000 00:00:1737012211.678841  156097 cuda_blas.cc:1418] Unable to register cuBLAS factory: Attempting to register factory for plugin cuBLAS when one has already been registered\n",
      "2025-01-16 08:23:31.709333: I tensorflow/core/platform/cpu_feature_guard.cc:210] This TensorFlow binary is optimized to use available CPU instructions in performance-critical operations.\n",
      "To enable the following instructions: AVX2 FMA, in other operations, rebuild TensorFlow with the appropriate compiler flags.\n"
     ]
    },
    {
     "name": "stdout",
     "output_type": "stream",
     "text": [
      "2.18.0\n",
      "[PhysicalDevice(name='/physical_device:CPU:0', device_type='CPU'), PhysicalDevice(name='/physical_device:GPU:0', device_type='GPU')]\n"
     ]
    }
   ],
   "source": [
    "############################################################################################\n",
    "# IMPORTS\n",
    "############################################################################################\n",
    "import os\n",
    "\n",
    "import numpy as np\n",
    "import pandas as pd\n",
    "import matplotlib.pyplot as plt\n",
    "\n",
    "#import tensorflow.keras.backend as K\n",
    "from sklearn.model_selection import train_test_split\n",
    "from sklearn.metrics import mean_squared_error\n",
    "from sklearn.preprocessing import StandardScaler, MinMaxScaler\n",
    "from sklearn.metrics import ConfusionMatrixDisplay\n",
    "\n",
    "\n",
    "import warnings\n",
    "warnings.filterwarnings('ignore')\n",
    "\n",
    "import tensorflow as tf\n",
    "#import tensorflow.keras as keras\n",
    "\n",
    "from tensorflow.keras import layers\n",
    "from tensorflow.keras import regularizers\n",
    "\n",
    "\n",
    "from tensorflow.keras.models import load_model\n",
    "from tensorflow.keras.models import Sequential\n",
    "from tensorflow.keras.layers import Conv2D, Dense, MaxPooling2D, Activation, Flatten\n",
    "\n",
    "from tensorflow.keras.datasets import mnist\n",
    "from tensorflow.keras.utils import to_categorical\n",
    "\n",
    "\n",
    "\n",
    "from IPython import display\n",
    "from PIL import Image\n",
    "\n",
    "\n",
    "import pathlib\n",
    "import shutil\n",
    "import tempfile\n",
    "import concurrent\n",
    "\n",
    "import pickle\n",
    "import visualkeras\n",
    "\n",
    "import json\n",
    "import glob\n",
    "\n",
    "\n",
    "\n",
    "\n",
    "\n",
    "print(tf.__version__)\n",
    "print(tf.config.list_physical_devices())\n",
    "############################################################################################"
   ]
  },
  {
   "cell_type": "code",
   "execution_count": 2,
   "metadata": {},
   "outputs": [],
   "source": [
    "############################################################################################\n",
    "# 1. CONSTANTS - PATHS\n",
    "############################################################################################\n",
    "\n",
    "#DATA_FS251 = './data/iFood_2019'\n",
    "DATA_FS251 = './data/food-101'\n",
    "CLASSES_FILE_NAME = '/formated_annot/classes_formated.csv'\n",
    "\n",
    "TRAIN_INFO = '/annot/train_info.csv'\n",
    "VAL_INFO = '/annot/val_info.csv'\n",
    "TEST_INFO = '/annot/test_info.csv'\n",
    "\n",
    "TRAIN_PICS_PATH = './data/iFood_2019/train_set/'\n",
    "TEST_PICS_PATH = './data/iFood_2019/test_set/'\n",
    "VAL_PICS_PATH = './data/iFood_2019/val_set/'\n",
    "\n",
    "MODELS = './models/'\n",
    "\n",
    "SEED = 111\n",
    "\n",
    "#os.environ[\"CUDA_VISIBLE_DEVICES\"] = \"-1\"\n",
    "gpu_dev = tf.config.experimental.list_physical_devices('GPU')\n",
    "for itm in gpu_dev:\n",
    "    tf.config.experimental.set_memory_growth(itm, True)\n"
   ]
  },
  {
   "cell_type": "markdown",
   "metadata": {},
   "source": [
    "############################################################################################\n",
    "# IMPORTING DATA\n",
    "############################################################################################\n",
    "df_classes = pd.read_csv(DATA_FS251 + CLASSES_FILE_NAME)\n",
    "df_train = pd.read_csv(DATA_FS251 + TRAIN_INFO, names=['file_name', 'class_num'])\n",
    "df_validate = pd.read_csv(DATA_FS251 + VAL_INFO, names=['file_name', 'class_num'])\n",
    "df_test = pd.read_csv(DATA_FS251 + TEST_INFO, names=['file_name'])\n",
    "\n",
    "df_train.head(3)"
   ]
  },
  {
   "cell_type": "code",
   "execution_count": 3,
   "metadata": {},
   "outputs": [],
   "source": [
    "############################################################################################\n",
    "# 2. CONSTANTS - MODEL\n",
    "############################################################################################\n",
    "training_history = dict()\n",
    "\n",
    "#N_TRAIN = len(df_train.iloc[:, 0])\n",
    "EPOCHS = 30\n",
    "BATCH_SIZE = 32              # 8 fit into GPU RAM, 64 fit into system RAM\n",
    "RESIZE_TO = (300, 300)\n",
    "#STEPS_PER_EPOCH = N_TRAIN // BATCH_SIZE"
   ]
  },
  {
   "cell_type": "markdown",
   "metadata": {},
   "source": [
    "############################################################################################\n",
    "# FUNCTIONS, DEFFINITIONS\n",
    "############################################################################################\n",
    "\n",
    "class CRelu(tf.keras.Layer):\n",
    "    def __init__(self, axis=-1, **kwargs):\n",
    "        self.axis = axis \n",
    "        super(CRelu, self).__init__(**kwargs)\n",
    "\n",
    "    def build(self, input_shape):\n",
    "        super(CRelu, self).build(input_shape)\n",
    "\n",
    "    def call(self, x):\n",
    "        x = tf.nn.crelu(x, axis=self.axis)\n",
    "        return x\n",
    "\n",
    "    def compute_output_shape(self, input_shape):\n",
    "        output_shape = list(input_shape)\n",
    "        output_shape[-1] = output_shape[-1] * 2\n",
    "        output_shape = tuple(output_shape)\n",
    "        return output_shape\n",
    "\n",
    "    def get_config(self, input_shape):\n",
    "        config = {'axis': self.axis, }\n",
    "        base_config = super(CReLU, self).get_config()\n",
    "        return dict(list(base_config.items()) + list(config.items()))"
   ]
  },
  {
   "cell_type": "code",
   "execution_count": 4,
   "metadata": {},
   "outputs": [
    {
     "name": "stdout",
     "output_type": "stream",
     "text": [
      "Found 80800 images belonging to 101 classes.\n",
      "Found 20200 images belonging to 101 classes.\n",
      "Found 101000 files belonging to 101 classes.\n",
      "Using 30300 files for validation.\n"
     ]
    },
    {
     "name": "stderr",
     "output_type": "stream",
     "text": [
      "I0000 00:00:1737012231.420541  156097 gpu_device.cc:2022] Created device /job:localhost/replica:0/task:0/device:GPU:0 with 5456 MB memory:  -> device: 0, name: NVIDIA GeForce GTX 1060 with Max-Q Design, pci bus id: 0000:01:00.0, compute capability: 6.1\n"
     ]
    }
   ],
   "source": [
    "############################################################################################\n",
    "# import image files\n",
    "############################################################################################\n",
    "\n",
    "generator = tf.keras.preprocessing.image.ImageDataGenerator(\n",
    "    featurewise_center=False,\n",
    "    samplewise_center=False,\n",
    "    featurewise_std_normalization=False,\n",
    "    samplewise_std_normalization=False,\n",
    "    zca_whitening=False,\n",
    "    zca_epsilon=1e-06,\n",
    "    rotation_range=40,\n",
    "    width_shift_range=0.1,\n",
    "    height_shift_range=0.1,\n",
    "    brightness_range=None,\n",
    "    shear_range=0.0,\n",
    "    zoom_range=0.2,\n",
    "    channel_shift_range=0.0,\n",
    "    fill_mode='nearest',\n",
    "    cval=0.0,\n",
    "    horizontal_flip=True,\n",
    "    vertical_flip=False,\n",
    "    rescale=None,\n",
    "    preprocessing_function=None,\n",
    "    data_format=None,\n",
    "    validation_split=0.2,\n",
    "    interpolation_order=1,\n",
    "    dtype=None\n",
    ")\n",
    "\n",
    "train_pics = generator.flow_from_directory(\n",
    "    './data/food-101/images/',\n",
    "    target_size=RESIZE_TO,\n",
    "    color_mode='rgb',\n",
    "    classes=None,\n",
    "    class_mode='categorical',\n",
    "    batch_size=BATCH_SIZE,\n",
    "    shuffle=True,\n",
    "    seed=SEED,\n",
    "    save_to_dir=None,\n",
    "    save_prefix='',\n",
    "    save_format='png',\n",
    "    follow_links=False,\n",
    "    subset='training',\n",
    "    interpolation='nearest',\n",
    "    keep_aspect_ratio=False)\n",
    "\n",
    "val_pics = generator.flow_from_directory(\n",
    "    './data/food-101/images/',\n",
    "    target_size=RESIZE_TO,\n",
    "    color_mode='rgb',\n",
    "    classes=None,\n",
    "    class_mode='categorical',\n",
    "    batch_size=BATCH_SIZE,\n",
    "    shuffle=True,\n",
    "    seed=SEED,\n",
    "    save_to_dir=None,\n",
    "    save_prefix='',\n",
    "    save_format='png',\n",
    "    follow_links=False,\n",
    "    subset='validation',\n",
    "    interpolation='nearest',\n",
    "    keep_aspect_ratio=False)\n",
    "\n",
    "\n",
    "\n",
    "#train_pics, val_pics = tf.keras.preprocessing.image_dataset_from_directory(\n",
    "#    './data/food-101/images/',\n",
    "#    labels='inferred',\n",
    "#    label_mode='categorical',\n",
    "#    class_names=None,\n",
    "#    color_mode='rgb',\n",
    "#    batch_size=BATCH_SIZE,\n",
    "#    image_size=RESIZE_TO,\n",
    "#    shuffle=True,\n",
    "#    seed=SEED,\n",
    "#    validation_split=0.1,\n",
    "#    subset='both',\n",
    "#    interpolation='bilinear',\n",
    "#    follow_links=False,\n",
    "#    crop_to_aspect_ratio=False,\n",
    "#    pad_to_aspect_ratio=False,\n",
    "#    data_format='channels_last',\n",
    "#    verbose=True)\n",
    "\n",
    "test_pics = tf.keras.preprocessing.image_dataset_from_directory(\n",
    "    './data/food-101/images/',\n",
    "    labels='inferred',\n",
    "    label_mode='categorical',\n",
    "    class_names=None,\n",
    "    color_mode='rgb',\n",
    "    batch_size=BATCH_SIZE,\n",
    "    image_size=RESIZE_TO,\n",
    "    shuffle=True,\n",
    "    seed=SEED,\n",
    "    validation_split=0.3,\n",
    "    subset='validation',\n",
    "    interpolation='bilinear',\n",
    "    follow_links=False,\n",
    "    crop_to_aspect_ratio=False,\n",
    "    pad_to_aspect_ratio=False,\n",
    "    data_format='channels_last',\n",
    "    verbose=True\n",
    ")\n",
    "#true_test_pics = tf.keras.preprocessing.image_dataset_from_directory(\n",
    "#    TEST_PICS_PATH,\n",
    "#    labels=None,\n",
    "#    label_mode=None,\n",
    "#    class_names=None,\n",
    "#    color_mode='rgb',\n",
    "#    batch_size=BATCH_SIZE,\n",
    "#    image_size=RESIZE_TO,\n",
    "#    shuffle=True,\n",
    "#    seed=SEED,\n",
    "#    validation_split=None,\n",
    "#    subset=None,\n",
    "#    interpolation='bilinear',\n",
    "#    follow_links=False,\n",
    "#    crop_to_aspect_ratio=False,\n",
    "#    pad_to_aspect_ratio=False,\n",
    "#    data_format='channels_last',\n",
    "#    verbose=True\n",
    "#)\n",
    "\n",
    "\n",
    "\n",
    "\n"
   ]
  },
  {
   "cell_type": "code",
   "execution_count": 5,
   "metadata": {},
   "outputs": [],
   "source": [
    "#train_pics.class_names\n",
    "#val_pics.as_numpy_iterator().next()[0]\n",
    "#val_pics.take(1)"
   ]
  },
  {
   "cell_type": "code",
   "execution_count": null,
   "metadata": {},
   "outputs": [
    {
     "data": {
      "text/html": [
       "<pre style=\"white-space:pre;overflow-x:auto;line-height:normal;font-family:Menlo,'DejaVu Sans Mono',consolas,'Courier New',monospace\"><span style=\"font-weight: bold\">Model: \"functional\"</span>\n",
       "</pre>\n"
      ],
      "text/plain": [
       "\u001b[1mModel: \"functional\"\u001b[0m\n"
      ]
     },
     "metadata": {},
     "output_type": "display_data"
    },
    {
     "data": {
      "text/html": [
       "<pre style=\"white-space:pre;overflow-x:auto;line-height:normal;font-family:Menlo,'DejaVu Sans Mono',consolas,'Courier New',monospace\">┏━━━━━━━━━━━━━━━━━━━━━━━━━━━━━━━━━┳━━━━━━━━━━━━━━━━━━━━━━━━┳━━━━━━━━━━━━━━━┓\n",
       "┃<span style=\"font-weight: bold\"> Layer (type)                    </span>┃<span style=\"font-weight: bold\"> Output Shape           </span>┃<span style=\"font-weight: bold\">       Param # </span>┃\n",
       "┡━━━━━━━━━━━━━━━━━━━━━━━━━━━━━━━━━╇━━━━━━━━━━━━━━━━━━━━━━━━╇━━━━━━━━━━━━━━━┩\n",
       "│ input_layer_1 (<span style=\"color: #0087ff; text-decoration-color: #0087ff\">InputLayer</span>)      │ (<span style=\"color: #00d7ff; text-decoration-color: #00d7ff\">None</span>, <span style=\"color: #00af00; text-decoration-color: #00af00\">300</span>, <span style=\"color: #00af00; text-decoration-color: #00af00\">300</span>, <span style=\"color: #00af00; text-decoration-color: #00af00\">3</span>)    │             <span style=\"color: #00af00; text-decoration-color: #00af00\">0</span> │\n",
       "├─────────────────────────────────┼────────────────────────┼───────────────┤\n",
       "│ resizing (<span style=\"color: #0087ff; text-decoration-color: #0087ff\">Resizing</span>)             │ (<span style=\"color: #00d7ff; text-decoration-color: #00d7ff\">None</span>, <span style=\"color: #00af00; text-decoration-color: #00af00\">300</span>, <span style=\"color: #00af00; text-decoration-color: #00af00\">300</span>, <span style=\"color: #00af00; text-decoration-color: #00af00\">3</span>)    │             <span style=\"color: #00af00; text-decoration-color: #00af00\">0</span> │\n",
       "├─────────────────────────────────┼────────────────────────┼───────────────┤\n",
       "│ efficientnetb3 (<span style=\"color: #0087ff; text-decoration-color: #0087ff\">Functional</span>)     │ (<span style=\"color: #00d7ff; text-decoration-color: #00d7ff\">None</span>, <span style=\"color: #00af00; text-decoration-color: #00af00\">10</span>, <span style=\"color: #00af00; text-decoration-color: #00af00\">10</span>, <span style=\"color: #00af00; text-decoration-color: #00af00\">1536</span>)   │    <span style=\"color: #00af00; text-decoration-color: #00af00\">10,783,535</span> │\n",
       "├─────────────────────────────────┼────────────────────────┼───────────────┤\n",
       "│ conv2d (<span style=\"color: #0087ff; text-decoration-color: #0087ff\">Conv2D</span>)                 │ (<span style=\"color: #00d7ff; text-decoration-color: #00d7ff\">None</span>, <span style=\"color: #00af00; text-decoration-color: #00af00\">10</span>, <span style=\"color: #00af00; text-decoration-color: #00af00\">10</span>, <span style=\"color: #00af00; text-decoration-color: #00af00\">1024</span>)   │    <span style=\"color: #00af00; text-decoration-color: #00af00\">14,156,800</span> │\n",
       "├─────────────────────────────────┼────────────────────────┼───────────────┤\n",
       "│ global_average_pooling2d        │ (<span style=\"color: #00d7ff; text-decoration-color: #00d7ff\">None</span>, <span style=\"color: #00af00; text-decoration-color: #00af00\">1024</span>)           │             <span style=\"color: #00af00; text-decoration-color: #00af00\">0</span> │\n",
       "│ (<span style=\"color: #0087ff; text-decoration-color: #0087ff\">GlobalAveragePooling2D</span>)        │                        │               │\n",
       "├─────────────────────────────────┼────────────────────────┼───────────────┤\n",
       "│ dense (<span style=\"color: #0087ff; text-decoration-color: #0087ff\">Dense</span>)                   │ (<span style=\"color: #00d7ff; text-decoration-color: #00d7ff\">None</span>, <span style=\"color: #00af00; text-decoration-color: #00af00\">1024</span>)           │     <span style=\"color: #00af00; text-decoration-color: #00af00\">1,049,600</span> │\n",
       "├─────────────────────────────────┼────────────────────────┼───────────────┤\n",
       "│ dropout (<span style=\"color: #0087ff; text-decoration-color: #0087ff\">Dropout</span>)               │ (<span style=\"color: #00d7ff; text-decoration-color: #00d7ff\">None</span>, <span style=\"color: #00af00; text-decoration-color: #00af00\">1024</span>)           │             <span style=\"color: #00af00; text-decoration-color: #00af00\">0</span> │\n",
       "├─────────────────────────────────┼────────────────────────┼───────────────┤\n",
       "│ Output_layer (<span style=\"color: #0087ff; text-decoration-color: #0087ff\">Dense</span>)            │ (<span style=\"color: #00d7ff; text-decoration-color: #00d7ff\">None</span>, <span style=\"color: #00af00; text-decoration-color: #00af00\">101</span>)            │       <span style=\"color: #00af00; text-decoration-color: #00af00\">103,525</span> │\n",
       "└─────────────────────────────────┴────────────────────────┴───────────────┘\n",
       "</pre>\n"
      ],
      "text/plain": [
       "┏━━━━━━━━━━━━━━━━━━━━━━━━━━━━━━━━━┳━━━━━━━━━━━━━━━━━━━━━━━━┳━━━━━━━━━━━━━━━┓\n",
       "┃\u001b[1m \u001b[0m\u001b[1mLayer (type)                   \u001b[0m\u001b[1m \u001b[0m┃\u001b[1m \u001b[0m\u001b[1mOutput Shape          \u001b[0m\u001b[1m \u001b[0m┃\u001b[1m \u001b[0m\u001b[1m      Param #\u001b[0m\u001b[1m \u001b[0m┃\n",
       "┡━━━━━━━━━━━━━━━━━━━━━━━━━━━━━━━━━╇━━━━━━━━━━━━━━━━━━━━━━━━╇━━━━━━━━━━━━━━━┩\n",
       "│ input_layer_1 (\u001b[38;5;33mInputLayer\u001b[0m)      │ (\u001b[38;5;45mNone\u001b[0m, \u001b[38;5;34m300\u001b[0m, \u001b[38;5;34m300\u001b[0m, \u001b[38;5;34m3\u001b[0m)    │             \u001b[38;5;34m0\u001b[0m │\n",
       "├─────────────────────────────────┼────────────────────────┼───────────────┤\n",
       "│ resizing (\u001b[38;5;33mResizing\u001b[0m)             │ (\u001b[38;5;45mNone\u001b[0m, \u001b[38;5;34m300\u001b[0m, \u001b[38;5;34m300\u001b[0m, \u001b[38;5;34m3\u001b[0m)    │             \u001b[38;5;34m0\u001b[0m │\n",
       "├─────────────────────────────────┼────────────────────────┼───────────────┤\n",
       "│ efficientnetb3 (\u001b[38;5;33mFunctional\u001b[0m)     │ (\u001b[38;5;45mNone\u001b[0m, \u001b[38;5;34m10\u001b[0m, \u001b[38;5;34m10\u001b[0m, \u001b[38;5;34m1536\u001b[0m)   │    \u001b[38;5;34m10,783,535\u001b[0m │\n",
       "├─────────────────────────────────┼────────────────────────┼───────────────┤\n",
       "│ conv2d (\u001b[38;5;33mConv2D\u001b[0m)                 │ (\u001b[38;5;45mNone\u001b[0m, \u001b[38;5;34m10\u001b[0m, \u001b[38;5;34m10\u001b[0m, \u001b[38;5;34m1024\u001b[0m)   │    \u001b[38;5;34m14,156,800\u001b[0m │\n",
       "├─────────────────────────────────┼────────────────────────┼───────────────┤\n",
       "│ global_average_pooling2d        │ (\u001b[38;5;45mNone\u001b[0m, \u001b[38;5;34m1024\u001b[0m)           │             \u001b[38;5;34m0\u001b[0m │\n",
       "│ (\u001b[38;5;33mGlobalAveragePooling2D\u001b[0m)        │                        │               │\n",
       "├─────────────────────────────────┼────────────────────────┼───────────────┤\n",
       "│ dense (\u001b[38;5;33mDense\u001b[0m)                   │ (\u001b[38;5;45mNone\u001b[0m, \u001b[38;5;34m1024\u001b[0m)           │     \u001b[38;5;34m1,049,600\u001b[0m │\n",
       "├─────────────────────────────────┼────────────────────────┼───────────────┤\n",
       "│ dropout (\u001b[38;5;33mDropout\u001b[0m)               │ (\u001b[38;5;45mNone\u001b[0m, \u001b[38;5;34m1024\u001b[0m)           │             \u001b[38;5;34m0\u001b[0m │\n",
       "├─────────────────────────────────┼────────────────────────┼───────────────┤\n",
       "│ Output_layer (\u001b[38;5;33mDense\u001b[0m)            │ (\u001b[38;5;45mNone\u001b[0m, \u001b[38;5;34m101\u001b[0m)            │       \u001b[38;5;34m103,525\u001b[0m │\n",
       "└─────────────────────────────────┴────────────────────────┴───────────────┘\n"
      ]
     },
     "metadata": {},
     "output_type": "display_data"
    },
    {
     "data": {
      "text/html": [
       "<pre style=\"white-space:pre;overflow-x:auto;line-height:normal;font-family:Menlo,'DejaVu Sans Mono',consolas,'Courier New',monospace\"><span style=\"font-weight: bold\"> Total params: </span><span style=\"color: #00af00; text-decoration-color: #00af00\">26,093,460</span> (99.54 MB)\n",
       "</pre>\n"
      ],
      "text/plain": [
       "\u001b[1m Total params: \u001b[0m\u001b[38;5;34m26,093,460\u001b[0m (99.54 MB)\n"
      ]
     },
     "metadata": {},
     "output_type": "display_data"
    },
    {
     "data": {
      "text/html": [
       "<pre style=\"white-space:pre;overflow-x:auto;line-height:normal;font-family:Menlo,'DejaVu Sans Mono',consolas,'Courier New',monospace\"><span style=\"font-weight: bold\"> Trainable params: </span><span style=\"color: #00af00; text-decoration-color: #00af00\">15,309,925</span> (58.40 MB)\n",
       "</pre>\n"
      ],
      "text/plain": [
       "\u001b[1m Trainable params: \u001b[0m\u001b[38;5;34m15,309,925\u001b[0m (58.40 MB)\n"
      ]
     },
     "metadata": {},
     "output_type": "display_data"
    },
    {
     "data": {
      "text/html": [
       "<pre style=\"white-space:pre;overflow-x:auto;line-height:normal;font-family:Menlo,'DejaVu Sans Mono',consolas,'Courier New',monospace\"><span style=\"font-weight: bold\"> Non-trainable params: </span><span style=\"color: #00af00; text-decoration-color: #00af00\">10,783,535</span> (41.14 MB)\n",
       "</pre>\n"
      ],
      "text/plain": [
       "\u001b[1m Non-trainable params: \u001b[0m\u001b[38;5;34m10,783,535\u001b[0m (41.14 MB)\n"
      ]
     },
     "metadata": {},
     "output_type": "display_data"
    }
   ],
   "source": [
    "############################################################################################\n",
    "# DEFINING THE MODEL\n",
    "############################################################################################\n",
    "tf.keras.backend.clear_session()\n",
    "\n",
    "core_model = tf.keras.applications.EfficientNetB3(include_top=False, input_shape=(300, 300, 3))\n",
    "core_model.trainable = False\n",
    "#for layer in core_model.layers[-25:]:\n",
    "#    print(layer.output)\n",
    "#    layer.trainable = False\n",
    "\n",
    "inputed = tf.keras.Input(shape=(300,300,3))\n",
    "x = tf.keras.layers.Resizing(height = 300,width = 300,interpolation='bilinear',crop_to_aspect_ratio=False,pad_to_aspect_ratio=False,fill_mode='constant',fill_value=0.0)(inputed)\n",
    "#x = tf.keras.layers.RandomRotation(factor=0.3, seed=SEED)(x)\n",
    "#x = tf.keras.layers.RandomBrightness(factor=[-0.2, 0.2])(x)\n",
    "#x = tf.keras.layers.RandomContrast(factor=0.2)(x)\n",
    "x = core_model(x)\n",
    "\n",
    "x = tf.keras.layers.Conv2D(1024, (3, 3), activation='relu', padding='same', kernel_regularizer=tf.keras.regularizers.L2(0.01))(x)\n",
    "x = tf.keras.layers.GlobalAveragePooling2D()(x)\n",
    "x = tf.keras.layers.Dense(1024, activation='relu', kernel_regularizer=tf.keras.regularizers.L2(0.01))(x)\n",
    "x = tf.keras.layers.Dropout(0.3, seed=SEED)(x) \n",
    "outputed = tf.keras.layers.Dense(units=101,activation='softmax',activity_regularizer=tf.keras.regularizers.L2(), name='Output_layer')(x)\n",
    "\n",
    "\n",
    "model_supclass = tf.keras.Model(inputed,outputed)\n",
    "\n",
    "model_supclass.summary()\n"
   ]
  },
  {
   "cell_type": "code",
   "execution_count": null,
   "metadata": {},
   "outputs": [
    {
     "name": "stdout",
     "output_type": "stream",
     "text": [
      "Epoch 1/20\n"
     ]
    },
    {
     "name": "stderr",
     "output_type": "stream",
     "text": [
      "WARNING: All log messages before absl::InitializeLog() is called are written to STDERR\n",
      "I0000 00:00:1737012265.610703  156460 service.cc:148] XLA service 0x70b3300034f0 initialized for platform CUDA (this does not guarantee that XLA will be used). Devices:\n",
      "I0000 00:00:1737012265.610728  156460 service.cc:156]   StreamExecutor device (0): NVIDIA GeForce GTX 1060 with Max-Q Design, Compute Capability 6.1\n",
      "2025-01-16 08:24:26.548176: I tensorflow/compiler/mlir/tensorflow/utils/dump_mlir_util.cc:268] disabling MLIR crash reproducer, set env var `MLIR_CRASH_REPRODUCER_DIRECTORY` to enable.\n",
      "I0000 00:00:1737012269.994890  156460 cuda_dnn.cc:529] Loaded cuDNN version 90600\n",
      "2025-01-16 08:24:43.367798: I external/local_xla/xla/service/gpu/autotuning/conv_algorithm_picker.cc:557] Omitted potentially buggy algorithm eng14{} for conv (f32[32,1024,10,10]{3,2,1,0}, u8[0]{0}) custom-call(f32[32,1536,10,10]{3,2,1,0}, f32[1024,1536,3,3]{3,2,1,0}, f32[1024]{0}), window={size=3x3 pad=1_1x1_1}, dim_labels=bf01_oi01->bf01, custom_call_target=\"__cudnn$convBiasActivationForward\", backend_config={\"cudnn_conv_backend_config\":{\"activation_mode\":\"kNone\",\"conv_result_scale\":1,\"leakyrelu_alpha\":0,\"side_input_scale\":0},\"force_earliest_schedule\":false,\"operation_queue_id\":\"0\",\"wait_on_operation_queues\":[]}\n",
      "2025-01-16 08:24:43.853915: W external/local_xla/xla/tsl/framework/bfc_allocator.cc:378] Garbage collection: deallocate free memory regions (i.e., allocations) so that we can re-allocate a larger region to avoid OOM due to memory fragmentation. If you see this message frequently, you are running near the threshold of the available device memory and re-allocation may incur great performance overhead. You may try smaller batch sizes to observe the performance impact. Set TF_ENABLE_GPU_GARBAGE_COLLECTION=false if you'd like to disable this feature.\n",
      "2025-01-16 08:24:46.824757: W external/local_xla/xla/tsl/framework/bfc_allocator.cc:306] Allocator (GPU_0_bfc) ran out of memory trying to allocate 6.72GiB with freed_by_count=0. The caller indicates that this is not a failure, but this may mean that there could be performance gains if more memory were available.\n",
      "I0000 00:00:1737012302.948018  156460 device_compiler.h:188] Compiled cluster using XLA!  This line is logged at most once for the lifetime of the process.\n"
     ]
    },
    {
     "name": "stdout",
     "output_type": "stream",
     "text": [
      "\u001b[1m2525/2525\u001b[0m \u001b[32m━━━━━━━━━━━━━━━━━━━━\u001b[0m\u001b[37m\u001b[0m \u001b[1m0s\u001b[0m 889ms/step - accuracy: 0.3285 - loss: 4.7304"
     ]
    },
    {
     "name": "stderr",
     "output_type": "stream",
     "text": [
      "2025-01-16 09:02:38.238656: I external/local_xla/xla/service/gpu/autotuning/conv_algorithm_picker.cc:557] Omitted potentially buggy algorithm eng14{} for conv (f32[32,1024,10,10]{3,2,1,0}, u8[0]{0}) custom-call(f32[32,1536,10,10]{3,2,1,0}, f32[1024,1536,3,3]{3,2,1,0}, f32[1024]{0}), window={size=3x3 pad=1_1x1_1}, dim_labels=bf01_oi01->bf01, custom_call_target=\"__cudnn$convBiasActivationForward\", backend_config={\"cudnn_conv_backend_config\":{\"activation_mode\":\"kRelu\",\"conv_result_scale\":1,\"leakyrelu_alpha\":0,\"side_input_scale\":0},\"force_earliest_schedule\":false,\"operation_queue_id\":\"0\",\"wait_on_operation_queues\":[]}\n",
      "2025-01-16 09:02:40.824180: W external/local_xla/xla/tsl/framework/bfc_allocator.cc:306] Allocator (GPU_0_bfc) ran out of memory trying to allocate 6.72GiB with freed_by_count=0. The caller indicates that this is not a failure, but this may mean that there could be performance gains if more memory were available.\n"
     ]
    }
   ],
   "source": [
    "############################################################################################\n",
    "# COMPILING, FITTING 1\n",
    "############################################################################################\n",
    "model_supclass.compile(\n",
    "    optimizer=tf.keras.optimizers.RMSprop(learning_rate=0.001), #6.1 model, 6.5, 6.6\n",
    "    #optimizer=tf.keras.optimizers.Adam(learning_rate=0.00001), #model 6.2, 6.3\n",
    "    #optimizer=tf.keras.optimizers.Adam(learning_rate=0.0001), #model 6.4\n",
    "    loss='categorical_crossentropy',\n",
    "    metrics=['accuracy']\n",
    ")\n",
    "model_history_1 = model_supclass.fit(\n",
    "    train_pics,\n",
    "    validation_data=val_pics,\n",
    "    epochs=20,\n",
    "    callbacks=[tf.keras.callbacks.EarlyStopping(min_delta = 0, patience=5, restore_best_weights=True)]\n",
    ")\n",
    "############################################################################################\n",
    "# COMPILING, FITTING 2\n",
    "############################################################################################\n",
    "core_model.trainable = True\n",
    "for layer in core_model.layers[:-20]:\n",
    "    layer.trainable = False\n",
    "model_supclass.compile(\n",
    "    optimizer=tf.keras.optimizers.RMSprop(learning_rate=0.0001),\n",
    "    loss='categorical_crossentropy',\n",
    "    metrics=['accuracy']\n",
    ")\n",
    "model_history_2 = model_supclass.fit(\n",
    "    train_pics,\n",
    "    validation_data=val_pics,\n",
    "    epochs=35,\n",
    "    initial_epoch=5,\n",
    "    callbacks=[tf.keras.callbacks.EarlyStopping(min_delta = 0, patience=5, restore_best_weights=True)]\n",
    ")\n",
    "\n"
   ]
  },
  {
   "cell_type": "code",
   "execution_count": null,
   "metadata": {},
   "outputs": [],
   "source": []
  },
  {
   "cell_type": "code",
   "execution_count": null,
   "metadata": {},
   "outputs": [],
   "source": []
  },
  {
   "cell_type": "code",
   "execution_count": null,
   "metadata": {},
   "outputs": [],
   "source": []
  },
  {
   "cell_type": "code",
   "execution_count": null,
   "metadata": {},
   "outputs": [],
   "source": [
    "############################################################################################\n",
    "# SAVING MODEL\n",
    "############################################################################################\n",
    "MODEL_NAME = 'Nadine_food-101-EfNetB3-A0.__-earlystop-E__of45-B32_softCat_v1.1c-GENERATOR_NoPreprocLays'\n",
    "os.makedirs( os.path.dirname(MODELS + 'test/' + MODEL_NAME + '/'), exist_ok=True)\n",
    "model_supclass.save(MODELS + 'test/' + MODEL_NAME + '/'+ MODEL_NAME + \".keras\")\n",
    "#model_supclass_loaded = load_model(MODELS + MODEL_NAME + '/'+ MODEL_NAME + \".keras\")\n",
    "#model_supclass_loaded.summary()\n",
    "\n",
    "model_history_df = pd.concat( [ pd.DataFrame(model_history_1.history, columns=['accuracy','loss','val_accuracy','val_loss']), pd.DataFrame(model_history_2.history, columns=['accuracy','loss','val_accuracy','val_loss'])], axis=0).reset_index(drop=True)\n",
    "\n",
    "# with pickle\n",
    "with open(MODELS + 'test/'+ MODEL_NAME + '/'+ MODEL_NAME + \".pckl\", 'wb') as file_pi:\n",
    "    pickle.dump(model_history_df, file_pi)\n",
    "# history in csv format\n",
    "hits_df = []\n",
    "hits_df = pd.DataFrame(model_history_df)\n",
    "hits_df.to_csv(MODELS + 'test/' + MODEL_NAME + '/'+ MODEL_NAME + '.hist_csv')\n"
   ]
  },
  {
   "cell_type": "code",
   "execution_count": null,
   "metadata": {},
   "outputs": [],
   "source": [
    "############################################################################################\n",
    "# EVALUATION - MODEL STRUCTURE IMAGES\n",
    "############################################################################################\n",
    "tf.keras.utils.plot_model(\n",
    "    model_supclass,\n",
    "    to_file=MODELS + 'test/' + MODEL_NAME + '/'+ MODEL_NAME + '_model_diagram.png',\n",
    "    show_shapes=True,\n",
    "    show_dtype=True,\n",
    "    show_layer_names=False,\n",
    "    rankdir='TB',\n",
    "    expand_nested=False,\n",
    "    dpi=200,\n",
    "    show_layer_activations=True,\n",
    "    show_trainable=True\n",
    ")\n",
    "\n",
    "\n",
    "visualkeras.layered_view(model_supclass,\n",
    "                        to_file=MODELS + 'test/' + MODEL_NAME + '/'+ MODEL_NAME + '_layer_plot.png',\n",
    "                        legend=True,\n",
    "                        max_xy=250,\n",
    "                        min_z = 1, \n",
    "                        max_z= 75,\n",
    "                        scale_z = 5,\n",
    "#                        color_map = color_map,\n",
    "#                        show_nested = True,\n",
    "                        spacing=50\n",
    "#                        show_dimension=True\n",
    "                        )\n",
    "visualkeras.layered_view(core_model,\n",
    "                        to_file=MODELS + 'test/' + MODEL_NAME + '/'+ MODEL_NAME + '_core_layer_plot.png',\n",
    "                        legend=True,\n",
    "                        max_xy=250,\n",
    "                        min_z = 1, \n",
    "                        max_z= 10,\n",
    "                        scale_z = 5,\n",
    "#                        color_map = color_map,\n",
    "#                        show_nested = True,\n",
    "                        spacing=5\n",
    "#                        show_dimension=True\n",
    "                        )"
   ]
  },
  {
   "cell_type": "code",
   "execution_count": null,
   "metadata": {},
   "outputs": [],
   "source": [
    "############################################################################################\n",
    "# EVALUATION - ACCURACY\n",
    "############################################################################################\n",
    "\n",
    "plt.legend(bbox_to_anchor = [1, 1.02])\n",
    "plt.plot(model_history_1.history['accuracy'],label='Train accuracy1')\n",
    "plt.plot(model_history_2.history['accuracy'],label='Train accuracy2')\n",
    "plt.plot(model_history_1.history['val_accuracy'],label='Validation accuracy1')\n",
    "plt.plot(model_history_2.history['val_accuracy'],label='Validation accuracy2')\n",
    "plt.xlabel('Epochs')\n",
    "plt.ylabel('Accuracy')\n",
    "plt.legend()\n",
    "plt.savefig(MODELS + 'test/' + MODEL_NAME + '/'+ MODEL_NAME + '_ACCURACY.png')\n",
    "plt.show()"
   ]
  },
  {
   "cell_type": "code",
   "execution_count": null,
   "metadata": {},
   "outputs": [],
   "source": [
    "############################################################################################\n",
    "# EVALUATION - LOSS\n",
    "############################################################################################\n",
    "\n",
    "plt.legend(bbox_to_anchor = [1, 1.02])\n",
    "plt.plot(model_history_1.history['loss'],label='Train loss 1')\n",
    "plt.plot(model_history_2.history['loss'],label='Train loss 2')\n",
    "plt.plot(model_history_1.history['val_loss'],label='Validation loss 1')\n",
    "plt.plot(model_history_2.history['val_loss'],label='Validation loss 2')\n",
    "plt.xlabel('Epochs')\n",
    "plt.ylabel('Loss')\n",
    "plt.savefig(MODELS + 'test/' + MODEL_NAME + '/'+ MODEL_NAME + '_LOSS.png')\n",
    "plt.legend()\n",
    "plt.show()\n",
    "\n"
   ]
  },
  {
   "cell_type": "code",
   "execution_count": null,
   "metadata": {},
   "outputs": [],
   "source": [
    "############################################################################################\n",
    "# PREDICTION\n",
    "############################################################################################\n",
    "\n",
    "# Print out the score\n",
    "score = model_supclass.evaluate(test_pics , batch_size=1, verbose=1)\n",
    "print(score, model_supclass.metrics_names)\n",
    "\n",
    "y_test_pred = np.array([])\n",
    "y_test =  np.array([])\n",
    "#y_test_pred_raw = np.empty(shape=(128,1))\n",
    "#y_test_raw =  np.empty(shape=(128,1))\n",
    "for x, y in test_pics:\n",
    "        y_test_pred = np.concatenate([y_test_pred, np.argmax(model_supclass.predict(x, verbose=0), axis = -1)])\n",
    "        #y_test_pred_raw = np.concatenate([y_test_pred, model_supclass.predict(x, verbose=0)], axis=0)\n",
    "        y_test = np.concatenate([y_test, np.argmax(y.numpy(), axis=-1)])\n",
    "        #y_test_raw = np.concatenate([y_test, y.numpy()], axis=0)"
   ]
  },
  {
   "cell_type": "code",
   "execution_count": null,
   "metadata": {},
   "outputs": [],
   "source": []
  },
  {
   "cell_type": "code",
   "execution_count": null,
   "metadata": {},
   "outputs": [],
   "source": [
    "############################################################################################\n",
    "# PREDICTION - CONFMATRIX\n",
    "############################################################################################\n",
    "\n",
    "from sklearn.metrics import ConfusionMatrixDisplay\n",
    "plt.rcParams['figure.figsize'] = (35, 35)\n",
    "from sklearn.metrics import confusion_matrix\n",
    "cm = confusion_matrix(y_true= y_test, y_pred=y_test_pred)\n",
    "#disp = ConfusionMatrixDisplay(confusion_matrix=cm,display_labels=np.unique(y_test))\n",
    "labels = [str(val).lower().strip().replace('_',' ') for val in pd.DataFrame(val_pics.class_names, columns=['class'])['class'].tolist()]\n",
    "disp = ConfusionMatrixDisplay(confusion_matrix=cm, display_labels=labels)\n",
    "disp.plot()\n",
    "plt.xticks(rotation=90)\n",
    "plt.savefig(MODELS  + MODEL_NAME + '/'+ MODEL_NAME + '_CONFMAT_l.png')\n",
    "plt.show()\n",
    "\n",
    "\n",
    "\n",
    "\n"
   ]
  },
  {
   "cell_type": "code",
   "execution_count": null,
   "metadata": {},
   "outputs": [],
   "source": [
    "plt.figure(figsize=(15, 15))\n",
    "for images, labels in val_pics.take(1):\n",
    "    for i in range(9):\n",
    "        ax = plt.subplot(3, 3, i + 1)\n",
    "        plt.imshow(images[i].numpy().astype(\"uint8\"))\n",
    "        plt.title(str( labels[i].numpy().astype(int) ) + str(np.argmax(model_supclass.predict(images[i], verbose=0), axis = -1))  )\n",
    "        plt.axis(\"off\")\n",
    "        "
   ]
  },
  {
   "cell_type": "code",
   "execution_count": null,
   "metadata": {},
   "outputs": [],
   "source": [
    "#plt.imshow(images[0].numpy().astype(\"uint8\"))\n",
    "#plt.show()\n"
   ]
  }
 ],
 "metadata": {
  "kernelspec": {
   "display_name": ".venv",
   "language": "python",
   "name": "python3"
  },
  "language_info": {
   "codemirror_mode": {
    "name": "ipython",
    "version": 3
   },
   "file_extension": ".py",
   "mimetype": "text/x-python",
   "name": "python",
   "nbconvert_exporter": "python",
   "pygments_lexer": "ipython3",
   "version": "3.11.3"
  }
 },
 "nbformat": 4,
 "nbformat_minor": 2
}
